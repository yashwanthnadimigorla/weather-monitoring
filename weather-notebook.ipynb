{
 "cells": [
  {
   "cell_type": "code",
   "execution_count": 1,
   "id": "ddfa4f38-e75d-4c39-9e47-6c5d488b8a53",
   "metadata": {},
   "outputs": [],
   "source": [
    "# Import all required libraries at the top of the notebook\n",
    "import requests         # For API calls to OpenWeatherMap\n",
    "import time             # For time-based operations\n",
    "from datetime import datetime  # To convert timestamps\n",
    "import matplotlib.pyplot as plt  # For visualizations (later)\n"
   ]
  },
  {
   "cell_type": "code",
   "execution_count": 2,
   "id": "981f0b28-3b6a-4b94-9d4a-0ae82feb3010",
   "metadata": {},
   "outputs": [],
   "source": [
    "import sqlite3"
   ]
  },
  {
   "cell_type": "code",
   "execution_count": 3,
   "id": "d8c0f379-f963-408d-a58d-480a95b71d7a",
   "metadata": {},
   "outputs": [],
   "source": [
    "# Replace with your actual OpenWeatherMap API key\n",
    "API_KEY = '2ad4b87029e89b26b3fa26d785e13de1'\n"
   ]
  },
  {
   "cell_type": "code",
   "execution_count": 4,
   "id": "a68b9a5c-c986-4dac-bf3a-cb5a849e17f3",
   "metadata": {},
   "outputs": [],
   "source": [
    "# Function to fetch weather data for a specific city\n",
    "def get_weather_data(city):\n",
    "    url = f'http://api.openweathermap.org/data/2.5/weather?q={city}&appid={API_KEY}'\n",
    "    response = requests.get(url)\n",
    "    data = response.json()\n",
    "    \n",
    "    # Extract relevant weather data\n",
    "    weather_data = {\n",
    "        'city': city,\n",
    "        'main': data['weather'][0]['main'],  # Main weather condition\n",
    "        'temp_k': data['main']['temp'],  # Temperature in Kelvin\n",
    "        'feels_like_k': data['main']['feels_like'],  # Feels like temperature in Kelvin\n",
    "        'dt': datetime.utcfromtimestamp(data['dt']).strftime('%Y-%m-%d %H:%M:%S')  # Convert timestamp to readable format\n",
    "    }\n",
    "    \n",
    "    return weather_data\n"
   ]
  },
  {
   "cell_type": "code",
   "execution_count": 5,
   "id": "1980bd6d-d2c1-41eb-a7be-bbe13aaccb69",
   "metadata": {},
   "outputs": [
    {
     "name": "stdout",
     "output_type": "stream",
     "text": [
      "{'city': 'Delhi', 'main': 'Haze', 'temp_k': 305.2, 'feels_like_k': 306.07, 'dt': '2024-10-20 12:29:52'}\n"
     ]
    },
    {
     "name": "stderr",
     "output_type": "stream",
     "text": [
      "C:\\Users\\user\\AppData\\Local\\Temp\\ipykernel_11440\\2998573195.py:13: DeprecationWarning: datetime.datetime.utcfromtimestamp() is deprecated and scheduled for removal in a future version. Use timezone-aware objects to represent datetimes in UTC: datetime.datetime.fromtimestamp(timestamp, datetime.UTC).\n",
      "  'dt': datetime.utcfromtimestamp(data['dt']).strftime('%Y-%m-%d %H:%M:%S')  # Convert timestamp to readable format\n"
     ]
    }
   ],
   "source": [
    "# Test the function by fetching weather data for Delhi\n",
    "city = 'Delhi'\n",
    "weather_data = get_weather_data(city)\n",
    "print(weather_data)\n"
   ]
  },
  {
   "cell_type": "code",
   "execution_count": 6,
   "id": "ffe4d701-73dd-47e5-960d-e87255768ad4",
   "metadata": {},
   "outputs": [],
   "source": [
    "from datetime import timezone  # Add this to handle timezones\n",
    "\n",
    "# Function to fetch weather data for a specific city\n",
    "def get_weather_data(city):\n",
    "    url = f'http://api.openweathermap.org/data/2.5/weather?q={city}&appid={API_KEY}'\n",
    "    response = requests.get(url)\n",
    "    data = response.json()\n",
    "    \n",
    "    # Extract relevant weather data\n",
    "    weather_data = {\n",
    "        'city': city,\n",
    "        'main': data['weather'][0]['main'],  # Main weather condition\n",
    "        'temp_k': data['main']['temp'],  # Temperature in Kelvin\n",
    "        'feels_like_k': data['main']['feels_like'],  # Feels like temperature in Kelvin\n",
    "        # Use timezone-aware objects to represent datetimes in UTC\n",
    "        'dt': datetime.fromtimestamp(data['dt'], tz=timezone.utc).strftime('%Y-%m-%d %H:%M:%S')\n",
    "    }\n",
    "    \n",
    "    return weather_data\n"
   ]
  },
  {
   "cell_type": "code",
   "execution_count": 7,
   "id": "ed17989b-3d8c-4f3f-94fa-461e3a1af4c3",
   "metadata": {},
   "outputs": [],
   "source": [
    "# Function to convert temperature from Kelvin to Celsius\n",
    "def kelvin_to_celsius(temp_k):\n",
    "    return temp_k - 273.15\n"
   ]
  },
  {
   "cell_type": "code",
   "execution_count": 8,
   "id": "dc1462b6-c3a2-4b76-b5c3-a8420d8d1e3d",
   "metadata": {},
   "outputs": [
    {
     "name": "stdout",
     "output_type": "stream",
     "text": [
      "Temperature in Delhi: 32.05°C\n"
     ]
    }
   ],
   "source": [
    "# Convert the temperature to Celsius and display the result\n",
    "temp_k = weather_data['temp_k']\n",
    "temp_c = kelvin_to_celsius(temp_k)\n",
    "print(f\"Temperature in {city}: {temp_c:.2f}°C\")\n"
   ]
  },
  {
   "cell_type": "code",
   "execution_count": 9,
   "id": "f13059da-052f-405d-84b5-b750e11f5b37",
   "metadata": {},
   "outputs": [
    {
     "name": "stdout",
     "output_type": "stream",
     "text": [
      "Delhi: 31.05°C, Haze\n",
      "Mumbai: 29.99°C, Haze\n",
      "Chennai: 29.51°C, Mist\n",
      "Bangalore: 23.84°C, Clouds\n",
      "Kolkata: 28.97°C, Haze\n",
      "Hyderabad: 28.23°C, Haze\n"
     ]
    }
   ],
   "source": [
    "# List of cities\n",
    "CITIES = ['Delhi', 'Mumbai', 'Chennai', 'Bangalore', 'Kolkata', 'Hyderabad']\n",
    "\n",
    "# Fetch and display weather data for each city\n",
    "for city in CITIES:\n",
    "    weather_data = get_weather_data(city)\n",
    "    temp_c = kelvin_to_celsius(weather_data['temp_k'])\n",
    "    print(f\"{city}: {temp_c:.2f}°C, {weather_data['main']}\")\n"
   ]
  },
  {
   "cell_type": "code",
   "execution_count": 10,
   "id": "07b01040-23f5-4bc7-ac3a-ef6282c3d72a",
   "metadata": {},
   "outputs": [],
   "source": [
    "import sqlite3\n"
   ]
  },
  {
   "cell_type": "code",
   "execution_count": 11,
   "id": "08536cf3-7c34-4055-9a0a-e9d1e4253a12",
   "metadata": {},
   "outputs": [],
   "source": [
    "# Connect to SQLite database (or create it if it doesn't exist)\n",
    "conn = sqlite3.connect('weather_data.db')\n",
    "cursor = conn.cursor()\n",
    "\n",
    "# Create a table to store weather data if it doesn't already exist\n",
    "cursor.execute('''\n",
    "CREATE TABLE IF NOT EXISTS weather (\n",
    "    city TEXT,\n",
    "    dt TEXT,\n",
    "    temp_c REAL,\n",
    "    main TEXT\n",
    ")\n",
    "''')\n",
    "conn.commit()  # Save changes\n"
   ]
  },
  {
   "cell_type": "code",
   "execution_count": 12,
   "id": "96035650-b170-48f0-8a54-657f66336c0e",
   "metadata": {},
   "outputs": [],
   "source": [
    "# Function to store weather data in the SQLite database\n",
    "def store_weather_data(city, dt, temp_c, main):\n",
    "    cursor.execute('''\n",
    "    INSERT INTO weather (city, dt, temp_c, main)\n",
    "    VALUES (?, ?, ?, ?)\n",
    "    ''', (city, dt, temp_c, main))\n",
    "    conn.commit()  # Save changes\n"
   ]
  },
  {
   "cell_type": "code",
   "execution_count": 13,
   "id": "a383fe6c-23fb-4384-9ae0-e3aaf33a62d2",
   "metadata": {},
   "outputs": [],
   "source": [
    "def get_weather_data(city):\n",
    "    url = f'http://api.openweathermap.org/data/2.5/weather?q={city}&appid={API_KEY}'\n",
    "    response = requests.get(url)\n",
    "    data = response.json()\n",
    "    \n",
    "    # Extract relevant weather data\n",
    "    weather_data = {\n",
    "        'city': city,\n",
    "        'main': data['weather'][0]['main'],  # Main weather condition\n",
    "        'temp_k': data['main']['temp'],  # Temperature in Kelvin\n",
    "        'feels_like_k': data['main']['feels_like'],  # Feels like temperature in Kelvin\n",
    "        'dt': datetime.fromtimestamp(data['dt'], tz=timezone.utc).strftime('%Y-%m-%d %H:%M:%S')  # Convert timestamp to readable format\n",
    "    }\n",
    "    \n",
    "    # Convert temperature from Kelvin to Celsius\n",
    "    temp_c = kelvin_to_celsius(weather_data['temp_k'])\n",
    "    \n",
    "    # Store the data in the SQLite database\n",
    "    store_weather_data(city, weather_data['dt'], temp_c, weather_data['main'])\n",
    "    \n",
    "    return weather_data\n"
   ]
  },
  {
   "cell_type": "code",
   "execution_count": 14,
   "id": "1dbebdfd-e315-48d5-9450-c60e5b4d8c97",
   "metadata": {},
   "outputs": [],
   "source": [
    "# Fetch weather data for multiple cities and store in the database\n",
    "for city in CITIES:\n",
    "    get_weather_data(city)\n"
   ]
  },
  {
   "cell_type": "code",
   "execution_count": 15,
   "id": "576b0bb8-bf0b-4cbe-a37f-f2f9654f7d58",
   "metadata": {},
   "outputs": [
    {
     "name": "stdout",
     "output_type": "stream",
     "text": [
      "('Delhi', '2024-10-20 12:39:18', 31.05000000000001, 'Haze')\n",
      "('Mumbai', '2024-10-20 12:35:28', 29.99000000000001, 'Haze')\n",
      "('Chennai', '2024-10-20 12:41:48', 29.510000000000048, 'Mist')\n",
      "('Bangalore', '2024-10-20 12:40:06', 23.840000000000032, 'Clouds')\n",
      "('Kolkata', '2024-10-20 12:37:37', 28.970000000000027, 'Haze')\n",
      "('Hyderabad', '2024-10-20 12:41:49', 28.230000000000018, 'Haze')\n"
     ]
    }
   ],
   "source": [
    "# Query the weather data from the database\n",
    "cursor.execute('SELECT * FROM weather')\n",
    "rows = cursor.fetchall()\n",
    "\n",
    "for row in rows:\n",
    "    print(row)\n"
   ]
  },
  {
   "cell_type": "code",
   "execution_count": 16,
   "id": "a16bac5f-b1aa-465a-9694-83e00bd2439a",
   "metadata": {},
   "outputs": [],
   "source": [
    "# Function to calculate daily weather summary for a specific city\n",
    "def calculate_daily_summary(city):\n",
    "    # Query temperature data for the city from the database\n",
    "    cursor.execute('''\n",
    "    SELECT temp_c, main\n",
    "    FROM weather\n",
    "    WHERE city = ? AND dt >= DATE('now', '-1 day')\n",
    "    ''', (city,))\n",
    "    rows = cursor.fetchall()\n",
    "\n",
    "    if not rows:\n",
    "        print(f\"No data available for {city} in the last 24 hours.\")\n",
    "        return\n",
    "\n",
    "    temps = [row[0] for row in rows]\n",
    "    weather_conditions = [row[1] for row in rows]\n",
    "    \n",
    "    # Calculate summary statistics\n",
    "    avg_temp = sum(temps) / len(temps)\n",
    "    max_temp = max(temps)\n",
    "    min_temp = min(temps)\n",
    "    \n",
    "    # Find the dominant weather condition\n",
    "    dominant_weather = max(set(weather_conditions), key=weather_conditions.count)\n",
    "\n",
    "    # Print the summary\n",
    "    print(f\"Weather Summary for {city} (Last 24 Hours):\")\n",
    "    print(f\"Average Temperature: {avg_temp:.2f}°C\")\n",
    "    print(f\"Maximum Temperature: {max_temp:.2f}°C\")\n",
    "    print(f\"Minimum Temperature: {min_temp:.2f}°C\")\n",
    "    print(f\"Dominant Weather Condition: {dominant_weather}\")\n"
   ]
  },
  {
   "cell_type": "code",
   "execution_count": 17,
   "id": "088f5534-cd76-412c-8e98-0c00bf9ee535",
   "metadata": {},
   "outputs": [
    {
     "name": "stdout",
     "output_type": "stream",
     "text": [
      "Weather Summary for Delhi (Last 24 Hours):\n",
      "Average Temperature: 31.05°C\n",
      "Maximum Temperature: 31.05°C\n",
      "Minimum Temperature: 31.05°C\n",
      "Dominant Weather Condition: Haze\n"
     ]
    }
   ],
   "source": [
    "# Calculate daily summary for Delhi\n",
    "calculate_daily_summary('Delhi')\n"
   ]
  },
  {
   "cell_type": "code",
   "execution_count": 18,
   "id": "da3a8e9a-56d0-459b-b8d3-ff96344e8513",
   "metadata": {},
   "outputs": [],
   "source": [
    "# Define temperature thresholds (in Celsius)\n",
    "THRESHOLD = {\n",
    "    'high_temp': 35,  # Alert if temperature exceeds 35°C\n",
    "    'consecutive_updates': 2  # Number of consecutive updates to trigger the alert\n",
    "}\n"
   ]
  },
  {
   "cell_type": "code",
   "execution_count": 19,
   "id": "9c54038f-3d05-4523-b4ca-91244db14570",
   "metadata": {},
   "outputs": [],
   "source": [
    "# Initialize a dictionary to track consecutive alerts\n",
    "alert_counter = {}\n",
    "\n",
    "# Function to check weather data against thresholds and trigger alerts\n",
    "def check_weather_alert(city, current_temp):\n",
    "    global alert_counter\n",
    "    \n",
    "    if city not in alert_counter:\n",
    "        alert_counter[city] = 0\n",
    "\n",
    "    if current_temp > THRESHOLD['high_temp']:\n",
    "        alert_counter[city] += 1\n",
    "    else:\n",
    "        alert_counter[city] = 0  # Reset counter if below threshold\n",
    "\n",
    "    if alert_counter[city] >= THRESHOLD['consecutive_updates']:\n",
    "        print(f\"ALERT: {city} has exceeded the temperature threshold of {THRESHOLD['high_temp']}°C for {THRESHOLD['consecutive_updates']} consecutive updates!\")\n",
    "        # Reset the counter after triggering the alert\n",
    "        alert_counter[city] = 0\n"
   ]
  },
  {
   "cell_type": "code",
   "execution_count": 20,
   "id": "b77dcb90-d04f-41ff-8b8e-4a1899cdd048",
   "metadata": {},
   "outputs": [],
   "source": [
    "def get_weather_data(city):\n",
    "    url = f'http://api.openweathermap.org/data/2.5/weather?q={city}&appid={API_KEY}'\n",
    "    response = requests.get(url)\n",
    "    data = response.json()\n",
    "    \n",
    "    # Extract relevant weather data\n",
    "    weather_data = {\n",
    "        'city': city,\n",
    "        'main': data['weather'][0]['main'],  # Main weather condition\n",
    "        'temp_k': data['main']['temp'],  # Temperature in Kelvin\n",
    "        'feels_like_k': data['main']['feels_like'],  # Feels like temperature in Kelvin\n",
    "        'dt': datetime.fromtimestamp(data['dt'], tz=timezone.utc).strftime('%Y-%m-%d %H:%M:%S')  # Convert timestamp to readable format\n",
    "    }\n",
    "    \n",
    "    # Convert temperature from Kelvin to Celsius\n",
    "    temp_c = kelvin_to_celsius(weather_data['temp_k'])\n",
    "    \n",
    "    # Store the data in the SQLite database\n",
    "    store_weather_data(city, weather_data['dt'], temp_c, weather_data['main'])\n",
    "    \n",
    "    # Check for alerts\n",
    "    check_weather_alert(city, temp_c)\n",
    "    \n",
    "    return weather_data\n"
   ]
  },
  {
   "cell_type": "code",
   "execution_count": 21,
   "id": "ed4b727e-8606-459a-84f5-6ff76f880109",
   "metadata": {},
   "outputs": [],
   "source": [
    "# Manually insert mock data for testing alerts\n",
    "cursor.execute(\"INSERT INTO weather (city, dt, temp_c, main) VALUES ('Delhi', '2024-10-20 10:00:00', 36.5, 'Clear')\")\n",
    "cursor.execute(\"INSERT INTO weather (city, dt, temp_c, main) VALUES ('Delhi', '2024-10-20 10:05:00', 37.0, 'Clear')\")\n",
    "conn.commit()  # Save changes\n"
   ]
  },
  {
   "cell_type": "code",
   "execution_count": 22,
   "id": "914caf31-4c08-45d7-932b-270d2d7ddba3",
   "metadata": {},
   "outputs": [],
   "source": [
    "# Fetch and check weather data for Delhi\n",
    "weather_data = get_weather_data('Delhi')  # This will also check for alerts\n"
   ]
  },
  {
   "cell_type": "code",
   "execution_count": 23,
   "id": "2127b684-60fb-42d4-9b8d-a09ab86945a0",
   "metadata": {},
   "outputs": [],
   "source": [
    "# Function to visualize daily average temperatures for a specific city\n",
    "def visualize_daily_temperatures(city):\n",
    "    # Query average temperatures for the last 7 days\n",
    "    cursor.execute('''\n",
    "    SELECT dt, temp_c\n",
    "    FROM weather\n",
    "    WHERE city = ? AND dt >= DATE('now', '-7 days')\n",
    "    ORDER BY dt\n",
    "    ''', (city,))\n",
    "    \n",
    "    rows = cursor.fetchall()\n",
    "    \n",
    "    if not rows:\n",
    "        print(f\"No data available for {city} in the last 7 days.\")\n",
    "        return\n",
    "    \n",
    "    dates = [row[0] for row in rows]\n",
    "    temps = [row[1] for row in rows]\n",
    "\n",
    "    # Plotting the data\n",
    "    plt.figure(figsize=(10, 5))\n",
    "    plt.plot(dates, temps, marker='o', linestyle='-', color='b')\n",
    "    plt.title(f'Daily Average Temperatures in {city} (Last 7 Days)')\n",
    "    plt.xlabel('Date')\n",
    "    plt.ylabel('Temperature (°C)')\n",
    "    plt.xticks(rotation=45)\n",
    "    plt.grid()\n",
    "    plt.tight_layout()\n",
    "    plt.show()\n"
   ]
  },
  {
   "cell_type": "code",
   "execution_count": 24,
   "id": "e540dde6-ea2d-40b6-afec-ba6c69dcc90c",
   "metadata": {},
   "outputs": [
    {
     "data": {
      "image/png": "[encoded data removed]",
      "text/plain": [
       "<Figure size 1000x500 with 1 Axes>"
      ]
     },
     "metadata": {},
     "output_type": "display_data"
    }
   ],
   "source": [
    "# Visualize daily temperatures for Delhi\n",
    "visualize_daily_temperatures('Delhi')\n"
   ]
  },
  {
   "cell_type": "code",
   "execution_count": 25,
   "id": "e81b142a-ebae-4fa9-b545-f62172dcd7d3",
   "metadata": {},
   "outputs": [
    {
     "ename": "NameError",
     "evalue": "name 'data' is not defined",
     "output_type": "error",
     "traceback": [
      "\u001b[1;31m---------------------------------------------------------------------------\u001b[0m",
      "\u001b[1;31mNameError\u001b[0m                                 Traceback (most recent call last)",
      "Cell \u001b[1;32mIn[25], line 2\u001b[0m\n\u001b[0;32m      1\u001b[0m \u001b[38;5;66;03m# Update weather data extraction in get_weather_data\u001b[39;00m\n\u001b[1;32m----> 2\u001b[0m humidity \u001b[38;5;241m=\u001b[39m \u001b[43mdata\u001b[49m[\u001b[38;5;124m'\u001b[39m\u001b[38;5;124mmain\u001b[39m\u001b[38;5;124m'\u001b[39m][\u001b[38;5;124m'\u001b[39m\u001b[38;5;124mhumidity\u001b[39m\u001b[38;5;124m'\u001b[39m]  \u001b[38;5;66;03m# Humidity\u001b[39;00m\n\u001b[0;32m      3\u001b[0m wind_speed \u001b[38;5;241m=\u001b[39m data[\u001b[38;5;124m'\u001b[39m\u001b[38;5;124mwind\u001b[39m\u001b[38;5;124m'\u001b[39m][\u001b[38;5;124m'\u001b[39m\u001b[38;5;124mspeed\u001b[39m\u001b[38;5;124m'\u001b[39m]  \u001b[38;5;66;03m# Wind speed\u001b[39;00m\n\u001b[0;32m      4\u001b[0m pressure \u001b[38;5;241m=\u001b[39m data[\u001b[38;5;124m'\u001b[39m\u001b[38;5;124mmain\u001b[39m\u001b[38;5;124m'\u001b[39m][\u001b[38;5;124m'\u001b[39m\u001b[38;5;124mpressure\u001b[39m\u001b[38;5;124m'\u001b[39m]  \u001b[38;5;66;03m# Atmospheric pressure\u001b[39;00m\n",
      "\u001b[1;31mNameError\u001b[0m: name 'data' is not defined"
     ]
    }
   ],
   "source": [
    "# Update weather data extraction in get_weather_data\n",
    "humidity = data['main']['humidity']  # Humidity\n",
    "wind_speed = data['wind']['speed']  # Wind speed\n",
    "pressure = data['main']['pressure']  # Atmospheric pressure\n",
    "\n",
    "# Add to the weather_data dictionary\n",
    "weather_data['humidity'] = humidity\n",
    "weather_data['wind_speed'] = wind_speed\n",
    "weather_data['pressure'] = pressure\n"
   ]
  },
  {
   "cell_type": "code",
   "execution_count": 26,
   "id": "52a33afa-fbf2-4c60-ba72-1703dd2a7993",
   "metadata": {},
   "outputs": [],
   "source": [
    "def get_weather_data(city):\n",
    "    url = f'http://api.openweathermap.org/data/2.5/weather?q={city}&appid={API_KEY}'\n",
    "    response = requests.get(url)\n",
    "    data = response.json()  # This is where 'data' is defined\n",
    "\n",
    "    # Extract relevant weather data\n",
    "    weather_data = {\n",
    "        'city': city,\n",
    "        'main': data['weather'][0]['main'],  # Main weather condition\n",
    "        'temp_k': data['main']['temp'],  # Temperature in Kelvin\n",
    "        'feels_like_k': data['main']['feels_like'],  # Feels like temperature in Kelvin\n",
    "        'dt': datetime.fromtimestamp(data['dt'], tz=timezone.utc).strftime('%Y-%m-%d %H:%M:%S'),  # Convert timestamp to readable format\n",
    "        'humidity': data['main']['humidity'],  # Humidity\n",
    "        'wind_speed': data['wind']['speed'],  # Wind speed\n",
    "        'pressure': data['main']['pressure']  # Atmospheric pressure\n",
    "    }\n",
    "\n",
    "    # Convert temperature from Kelvin to Celsius\n",
    "    temp_c = kelvin_to_celsius(weather_data['temp_k'])\n",
    "\n",
    "    # Store the data in the SQLite database\n",
    "    store_weather_data(city, weather_data['dt'], temp_c, weather_data['humidity'], weather_data['wind_speed'], weather_data['pressure'], weather_data['main'])\n",
    "\n",
    "    # Check for alerts\n",
    "    check_weather_alert(city, temp_c)\n",
    "\n",
    "    return weather_data\n"
   ]
  },
  {
   "cell_type": "code",
   "execution_count": 27,
   "id": "4e2102df-2f37-4073-a002-6cb5524a76e7",
   "metadata": {},
   "outputs": [
    {
     "data": {
      "text/plain": [
       "<sqlite3.Cursor at 0x1f6d37bfb40>"
      ]
     },
     "execution_count": 27,
     "metadata": {},
     "output_type": "execute_result"
    }
   ],
   "source": [
    "cursor.execute('''\n",
    "CREATE TABLE IF NOT EXISTS weather (\n",
    "    city TEXT,\n",
    "    dt TEXT,\n",
    "    temp_c REAL,\n",
    "    humidity REAL,\n",
    "    wind_speed REAL,\n",
    "    pressure REAL,\n",
    "    main TEXT\n",
    ")\n",
    "''')\n"
   ]
  },
  {
   "cell_type": "code",
   "execution_count": 28,
   "id": "3e6beb6f-0989-4f0e-b6fb-71e6c0ae09fc",
   "metadata": {},
   "outputs": [],
   "source": [
    "def get_weather_forecast(city):\n",
    "    url = f'http://api.openweathermap.org/data/2.5/onecall?lat={lat}&lon={lon}&exclude=current,minutely,hourly&appid={API_KEY}'\n",
    "    response = requests.get(url)\n",
    "    data = response.json()\n",
    "    # Process the forecast data\n"
   ]
  },
  {
   "cell_type": "code",
   "execution_count": 29,
   "id": "1be3498e-cffd-4cd2-9e39-0e7028915530",
   "metadata": {},
   "outputs": [],
   "source": [
    "import smtplib\n",
    "from email.mime.text import MIMEText\n",
    "\n",
    "def send_alert_email(city, temp):\n",
    "    msg = MIMEText(f\"ALERT: {city} has exceeded the temperature threshold of {THRESHOLD['high_temp']}°C. Current temperature: {temp}°C.\")\n",
    "    msg['Subject'] = f'Weather Alert for {city}'\n",
    "    msg['From'] = 'your_email@example.com'\n",
    "    msg['To'] = 'recipient_email@example.com'\n",
    "\n",
    "    with smtplib.SMTP('smtp.gmail.com', 587) as server:\n",
    "        server.starttls()\n",
    "        server.login('your_email@example.com', 'your_email_password')\n",
    "        server.send_message(msg)\n"
   ]
  },
  {
   "cell_type": "code",
   "execution_count": 30,
   "id": "1a67416c-7ec4-4d87-99c4-dbf43d996e6b",
   "metadata": {},
   "outputs": [],
   "source": [
    "def visualize_humidity(city):\n",
    "    # Query and visualize humidity data\n",
    "    pass\n"
   ]
  },
  {
   "cell_type": "code",
   "execution_count": null,
   "id": "fa6436b1-694d-4aad-bbe8-139780fcd802",
   "metadata": {},
   "outputs": [],
   "source": []
  }
 ],
 "metadata": {
  "kernelspec": {
   "display_name": "Python 3 (ipykernel)",
   "language": "python",
   "name": "python3"
  },
  "language_info": {
   "codemirror_mode": {
    "name": "ipython",
    "version": 3
   },
   "file_extension": ".py",
   "mimetype": "text/x-python",
   "name": "python",
   "nbconvert_exporter": "python",
   "pygments_lexer": "ipython3",
   "version": "3.13.0"
  }
 },
 "nbformat": 4,
 "nbformat_minor": 5
}
